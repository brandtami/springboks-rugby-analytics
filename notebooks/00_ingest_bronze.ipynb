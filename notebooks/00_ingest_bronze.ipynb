{
 "cells": [
  {
   "cell_type": "code",
   "execution_count": 2,
   "id": "6b57198a",
   "metadata": {},
   "outputs": [
    {
     "name": "stdout",
     "output_type": "stream",
     "text": [
      "[BRONZE] Saved data\\bronze\\bronze_results.parquet (rows=2783)\n"
     ]
    }
   ],
   "source": [
    "# !pip install kagglehub pandas numpy pyarrow\n",
    "\n",
    "from pathlib import Path\n",
    "import pandas as pd\n",
    "import numpy as np\n",
    "\n",
    "try:\n",
    "    import kagglehub\n",
    "except Exception:\n",
    "    kagglehub = None\n",
    "\n",
    "# config\n",
    "DATASET_ID = \"lylebegbie/international-rugby-union-results-from-18712022\"\n",
    "BRONZE = Path(\"data/bronze\"); BRONZE.mkdir(parents=True, exist_ok=True)\n",
    "SILVER = Path(\"data/silver\"); SILVER.mkdir(parents=True, exist_ok=True)\n",
    "TEAM_NAME = \"South Africa\"\n",
    "MIN_YEAR = 1992\n",
    "\n",
    "def download_bronze() -> Path:\n",
    "    if kagglehub is None:\n",
    "        raise RuntimeError(\"Please install kagglehub: pip install kagglehub\")\n",
    "    ds = Path(kagglehub.dataset_download(DATASET_ID))\n",
    "    csvs = sorted(ds.rglob(\"*.csv\"), key=lambda p: p.stat().st_size, reverse=True)\n",
    "    if not csvs:\n",
    "        raise FileNotFoundError(\"No CSV found in Kaggle dataset.\")\n",
    "    src = csvs[0]\n",
    "    df = pd.read_csv(src)\n",
    "    # enforce types minimally; keep “raw” spirit\n",
    "    if \"date\" in df.columns:\n",
    "        df[\"date\"] = pd.to_datetime(df[\"date\"], errors=\"coerce\")\n",
    "    bronze_path = BRONZE / \"bronze_results.parquet\"\n",
    "    df.to_parquet(bronze_path, index=False)\n",
    "    print(f\"[BRONZE] Saved {bronze_path} (rows={len(df)})\")\n",
    "    return bronze_path\n",
    "\n",
    "bronze_path = download_bronze()\n"
   ]
  }
 ],
 "metadata": {
  "kernelspec": {
   "display_name": "Python 3",
   "language": "python",
   "name": "python3"
  },
  "language_info": {
   "codemirror_mode": {
    "name": "ipython",
    "version": 3
   },
   "file_extension": ".py",
   "mimetype": "text/x-python",
   "name": "python",
   "nbconvert_exporter": "python",
   "pygments_lexer": "ipython3",
   "version": "3.13.5"
  }
 },
 "nbformat": 4,
 "nbformat_minor": 5
}
