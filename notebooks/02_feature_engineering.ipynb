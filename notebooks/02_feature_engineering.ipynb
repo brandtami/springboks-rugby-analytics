{
 "cells": [
  {
   "cell_type": "code",
   "execution_count": 1,
   "id": "980a6bb8",
   "metadata": {},
   "outputs": [
    {
     "name": "stdout",
     "output_type": "stream",
     "text": [
      "[GOLD] Saved data\\gold\\gold_results.parquet (rows=328)\n",
      "[GOLD] Split saved: train=255, test=73\n"
     ]
    }
   ],
   "source": [
    "# !pip install pandas numpy pyarrow\n",
    "\n",
    "from pathlib import Path\n",
    "import numpy as np\n",
    "import pandas as pd\n",
    "\n",
    "SILVER = Path(\"data/silver/silver_results.parquet\")\n",
    "GOLD_DIR = Path(\"data/gold\"); GOLD_DIR.mkdir(parents=True, exist_ok=True)\n",
    "\n",
    "TRAIN_END = pd.Timestamp(\"2016-12-31\")\n",
    "TEST_START = pd.Timestamp(\"2017-01-01\")\n",
    "\n",
    "df = pd.read_parquet(SILVER).sort_values(\"date\").reset_index(drop=True)\n",
    "\n",
    "# rolling form (last 3, lagged)\n",
    "df[\"rolling_form_3\"] = df[\"win\"].shift(1).rolling(3, min_periods=1).mean()\n",
    "\n",
    "# simple head-to-head prior win rate vs current opponent (lagged)\n",
    "prev_wins, prev_games, h2h_vals = {}, {}, []\n",
    "for _, row in df.iterrows():\n",
    "    opp = row[\"opp_team\"]\n",
    "    w = row[\"win\"]\n",
    "    h2h_vals.append(prev_wins.get(opp, 0)/prev_games.get(opp, 1) if prev_games.get(opp, 0) > 0 else np.nan)\n",
    "    prev_games[opp] = prev_games.get(opp, 0) + 1\n",
    "    prev_wins[opp] = prev_wins.get(opp, 0) + (1 if w == 1 else 0)\n",
    "df[\"h2h_winrate\"] = h2h_vals\n",
    "\n",
    "# rest days since previous match\n",
    "df[\"days_since_prev\"] = (df[\"date\"] - df[\"date\"].shift(1)).dt.days\n",
    "\n",
    "gold_path = Path(\"data/gold/gold_results.parquet\")\n",
    "df.to_parquet(gold_path, index=False)\n",
    "print(f\"[GOLD] Saved {gold_path} (rows={len(df)})\")\n",
    "\n",
    "# time-based split\n",
    "train = df[df[\"date\"] <= TRAIN_END].copy()\n",
    "test  = df[df[\"date\"] >= TEST_START].copy()\n",
    "\n",
    "X_cols_num = [\"home\",\"rolling_form_3\",\"h2h_winrate\",\"days_since_prev\",\"score_margin\"]\n",
    "X_cols_cat = [\"opp_team\",\"tournament\"]\n",
    "y_col = \"win\"\n",
    "\n",
    "train[X_cols_num + X_cols_cat + [y_col]].to_parquet(\"data/gold/train.parquet\", index=False)\n",
    "test[X_cols_num + X_cols_cat + [y_col]].to_parquet(\"data/gold/test.parquet\", index=False)\n",
    "print(f\"[GOLD] Split saved: train={len(train)}, test={len(test)}\")\n"
   ]
  }
 ],
 "metadata": {
  "kernelspec": {
   "display_name": "Python 3",
   "language": "python",
   "name": "python3"
  },
  "language_info": {
   "codemirror_mode": {
    "name": "ipython",
    "version": 3
   },
   "file_extension": ".py",
   "mimetype": "text/x-python",
   "name": "python",
   "nbconvert_exporter": "python",
   "pygments_lexer": "ipython3",
   "version": "3.13.5"
  }
 },
 "nbformat": 4,
 "nbformat_minor": 5
}
